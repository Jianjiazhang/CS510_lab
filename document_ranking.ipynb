{
 "cells": [
  {
   "cell_type": "code",
   "execution_count": null,
   "metadata": {
    "collapsed": true
   },
   "outputs": [],
   "source": [
    "import pandas as pd\n",
    "publication_data = pd.read_csv('publication.csv', header=None)"
   ]
  },
  {
   "cell_type": "code",
   "execution_count": null,
   "metadata": {
    "collapsed": true
   },
   "outputs": [],
   "source": [
    "publications_id_document_dict = dict()\n",
    "for i in range(0, len(publication_data)):\n",
    "    pub_info = publication_data.iloc[i]\n",
    "    s_id = pub_info[0]\n",
    "    document = str(pub_info[1]) + \" \" + str(pub_info[2]) + \" \" + str(pub_info[3])\n",
    "    publications_id_document_dict[s_id] = document\n"
   ]
  },
  {
   "cell_type": "code",
   "execution_count": null,
   "metadata": {
    "collapsed": true
   },
   "outputs": [],
   "source": [
    "import jsonlines\n",
    "publication_candidates = dict()\n",
    "with jsonlines.open('candidate_document_headQ_recommendation_top100.jsonl') as reader:\n",
    "    for item in reader:\n",
    "        s_id = item[\"s_id\"]\n",
    "        candidate_docs_dict = item[\"candidate_docs\"]\n",
    "        publication_candidates[s_id] = list(candidate_docs_dict.keys())"
   ]
  }
 ],
 "metadata": {
  "kernelspec": {
   "display_name": "Python 3",
   "language": "python",
   "name": "python3"
  },
  "language_info": {
   "codemirror_mode": {
    "name": "ipython",
    "version": 3
   },
   "file_extension": ".py",
   "mimetype": "text/x-python",
   "name": "python",
   "nbconvert_exporter": "python",
   "pygments_lexer": "ipython3",
   "version": "3.6.1"
  }
 },
 "nbformat": 4,
 "nbformat_minor": 2
}
